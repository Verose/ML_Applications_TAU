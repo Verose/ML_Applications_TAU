{
  "nbformat": 4,
  "nbformat_minor": 0,
  "metadata": {
    "colab": {
      "name": "Assignment 1 - basic statistics and sklearn.ipynb",
      "version": "0.3.2",
      "provenance": [],
      "collapsed_sections": [],
      "include_colab_link": true
    },
    "kernelspec": {
      "name": "python3",
      "display_name": "Python 3"
    }
  },
  "cells": [
    {
      "cell_type": "markdown",
      "metadata": {
        "id": "view-in-github",
        "colab_type": "text"
      },
      "source": [
        "<a href=\"https://colab.research.google.com/github/Verose/ML_Applications_TAU/blob/master/Assignment_1_basic_statistics_and_sklearn.ipynb\" target=\"_parent\"><img src=\"https://colab.research.google.com/assets/colab-badge.svg\" alt=\"Open In Colab\"/></a>"
      ]
    },
    {
      "metadata": {
        "id": "stYit-uGbayX",
        "colab_type": "code",
        "colab": {}
      },
      "cell_type": "code",
      "source": [
        "import pandas as pd\n",
        "from google.colab import drive\n",
        "import matplotlib.pyplot as plt\n",
        "from sklearn.model_selection import train_test_split\n",
        "from sklearn.linear_model import LogisticRegression\n",
        "from sklearn.metrics import confusion_matrix"
      ],
      "execution_count": 0,
      "outputs": []
    },
    {
      "metadata": {
        "id": "AweBS3ty84vI",
        "colab_type": "text"
      },
      "cell_type": "markdown",
      "source": [
        "# Section 1: Data Science"
      ]
    },
    {
      "metadata": {
        "id": "jlzgpkMZbuzc",
        "colab_type": "code",
        "colab": {
          "base_uri": "https://localhost:8080/",
          "height": 34
        },
        "outputId": "2edfdbc9-1522-40aa-b1b4-72d29fc25a26"
      },
      "cell_type": "code",
      "source": [
        "# TODO: Load the flights training data into 'data'\n",
        "from google.colab import drive\n",
        "import csv\n",
        "\n",
        "drive.mount('/content/drive')\n",
        "\n",
        "flights = '/content/drive/My Drive/Colab Notebooks/ML course/data/flight_delays_train.csv'\n",
        "\n",
        "data = pd.read_csv(flights)\n",
        "# remove rows in which the departure time is invalid i.e. > 2400\n",
        "data = data.drop(data[data.DepTime >= 2400].index)\n"
      ],
      "execution_count": 41,
      "outputs": [
        {
          "output_type": "stream",
          "text": [
            "Drive already mounted at /content/drive; to attempt to forcibly remount, call drive.mount(\"/content/drive\", force_remount=True).\n"
          ],
          "name": "stdout"
        }
      ]
    },
    {
      "metadata": {
        "id": "DXLfEg6TkgKS",
        "colab_type": "code",
        "colab": {
          "base_uri": "https://localhost:8080/",
          "height": 34
        },
        "outputId": "657af8cf-ee31-4093-ef83-92db12bcb99f"
      },
      "cell_type": "code",
      "source": [
        "# TODO: How many flights got delayed at Charlotte?\n",
        "\n",
        "CLT_flights = data[data['Origin'] == \"CLT\"]\n",
        "delayed = (CLT_flights['dep_delayed_15min'] == 'Y').sum()\n",
        "delayed"
      ],
      "execution_count": 3,
      "outputs": [
        {
          "output_type": "execute_result",
          "data": {
            "text/plain": [
              "288"
            ]
          },
          "metadata": {
            "tags": []
          },
          "execution_count": 3
        }
      ]
    },
    {
      "metadata": {
        "id": "nggBQbyYsaKH",
        "colab_type": "code",
        "colab": {
          "base_uri": "https://localhost:8080/",
          "height": 793
        },
        "outputId": "4ff5e44e-7e4b-4219-a4a6-7c1214823dfd"
      },
      "cell_type": "code",
      "source": [
        "# TODO: Show the number of departures per hour-of-day\n",
        "\n",
        "# You are adviced to use 'groupby'. More info can be found here:\n",
        "# https://pandas.pydata.org/pandas-docs/stable/generated/pandas.DataFrame.groupby.html\n",
        "\n",
        "hours = data['DepTime'] // 100\n",
        "bins = list(range(0, 25))\n",
        "data['DepTime_binned'] = pd.cut(hours, bins, right=False)\n",
        "dep_num_by_hour = data.groupby([\"DepTime_binned\"]).size().reset_index(name='counts')\n",
        "dep_num_by_hour"
      ],
      "execution_count": 42,
      "outputs": [
        {
          "output_type": "execute_result",
          "data": {
            "text/html": [
              "<div>\n",
              "<style scoped>\n",
              "    .dataframe tbody tr th:only-of-type {\n",
              "        vertical-align: middle;\n",
              "    }\n",
              "\n",
              "    .dataframe tbody tr th {\n",
              "        vertical-align: top;\n",
              "    }\n",
              "\n",
              "    .dataframe thead th {\n",
              "        text-align: right;\n",
              "    }\n",
              "</style>\n",
              "<table border=\"1\" class=\"dataframe\">\n",
              "  <thead>\n",
              "    <tr style=\"text-align: right;\">\n",
              "      <th></th>\n",
              "      <th>DepTime_binned</th>\n",
              "      <th>counts</th>\n",
              "    </tr>\n",
              "  </thead>\n",
              "  <tbody>\n",
              "    <tr>\n",
              "      <th>0</th>\n",
              "      <td>[0, 1)</td>\n",
              "      <td>308</td>\n",
              "    </tr>\n",
              "    <tr>\n",
              "      <th>1</th>\n",
              "      <td>[1, 2)</td>\n",
              "      <td>76</td>\n",
              "    </tr>\n",
              "    <tr>\n",
              "      <th>2</th>\n",
              "      <td>[2, 3)</td>\n",
              "      <td>27</td>\n",
              "    </tr>\n",
              "    <tr>\n",
              "      <th>3</th>\n",
              "      <td>[3, 4)</td>\n",
              "      <td>8</td>\n",
              "    </tr>\n",
              "    <tr>\n",
              "      <th>4</th>\n",
              "      <td>[4, 5)</td>\n",
              "      <td>38</td>\n",
              "    </tr>\n",
              "    <tr>\n",
              "      <th>5</th>\n",
              "      <td>[5, 6)</td>\n",
              "      <td>1636</td>\n",
              "    </tr>\n",
              "    <tr>\n",
              "      <th>6</th>\n",
              "      <td>[6, 7)</td>\n",
              "      <td>6315</td>\n",
              "    </tr>\n",
              "    <tr>\n",
              "      <th>7</th>\n",
              "      <td>[7, 8)</td>\n",
              "      <td>6329</td>\n",
              "    </tr>\n",
              "    <tr>\n",
              "      <th>8</th>\n",
              "      <td>[8, 9)</td>\n",
              "      <td>6620</td>\n",
              "    </tr>\n",
              "    <tr>\n",
              "      <th>9</th>\n",
              "      <td>[9, 10)</td>\n",
              "      <td>6409</td>\n",
              "    </tr>\n",
              "    <tr>\n",
              "      <th>10</th>\n",
              "      <td>[10, 11)</td>\n",
              "      <td>6363</td>\n",
              "    </tr>\n",
              "    <tr>\n",
              "      <th>11</th>\n",
              "      <td>[11, 12)</td>\n",
              "      <td>6340</td>\n",
              "    </tr>\n",
              "    <tr>\n",
              "      <th>12</th>\n",
              "      <td>[12, 13)</td>\n",
              "      <td>6363</td>\n",
              "    </tr>\n",
              "    <tr>\n",
              "      <th>13</th>\n",
              "      <td>[13, 14)</td>\n",
              "      <td>6178</td>\n",
              "    </tr>\n",
              "    <tr>\n",
              "      <th>14</th>\n",
              "      <td>[14, 15)</td>\n",
              "      <td>6006</td>\n",
              "    </tr>\n",
              "    <tr>\n",
              "      <th>15</th>\n",
              "      <td>[15, 16)</td>\n",
              "      <td>6170</td>\n",
              "    </tr>\n",
              "    <tr>\n",
              "      <th>16</th>\n",
              "      <td>[16, 17)</td>\n",
              "      <td>6112</td>\n",
              "    </tr>\n",
              "    <tr>\n",
              "      <th>17</th>\n",
              "      <td>[17, 18)</td>\n",
              "      <td>6562</td>\n",
              "    </tr>\n",
              "    <tr>\n",
              "      <th>18</th>\n",
              "      <td>[18, 19)</td>\n",
              "      <td>6110</td>\n",
              "    </tr>\n",
              "    <tr>\n",
              "      <th>19</th>\n",
              "      <td>[19, 20)</td>\n",
              "      <td>5500</td>\n",
              "    </tr>\n",
              "    <tr>\n",
              "      <th>20</th>\n",
              "      <td>[20, 21)</td>\n",
              "      <td>4430</td>\n",
              "    </tr>\n",
              "    <tr>\n",
              "      <th>21</th>\n",
              "      <td>[21, 22)</td>\n",
              "      <td>3505</td>\n",
              "    </tr>\n",
              "    <tr>\n",
              "      <th>22</th>\n",
              "      <td>[22, 23)</td>\n",
              "      <td>1787</td>\n",
              "    </tr>\n",
              "    <tr>\n",
              "      <th>23</th>\n",
              "      <td>[23, 24)</td>\n",
              "      <td>779</td>\n",
              "    </tr>\n",
              "  </tbody>\n",
              "</table>\n",
              "</div>"
            ],
            "text/plain": [
              "   DepTime_binned  counts\n",
              "0          [0, 1)     308\n",
              "1          [1, 2)      76\n",
              "2          [2, 3)      27\n",
              "3          [3, 4)       8\n",
              "4          [4, 5)      38\n",
              "5          [5, 6)    1636\n",
              "6          [6, 7)    6315\n",
              "7          [7, 8)    6329\n",
              "8          [8, 9)    6620\n",
              "9         [9, 10)    6409\n",
              "10       [10, 11)    6363\n",
              "11       [11, 12)    6340\n",
              "12       [12, 13)    6363\n",
              "13       [13, 14)    6178\n",
              "14       [14, 15)    6006\n",
              "15       [15, 16)    6170\n",
              "16       [16, 17)    6112\n",
              "17       [17, 18)    6562\n",
              "18       [18, 19)    6110\n",
              "19       [19, 20)    5500\n",
              "20       [20, 21)    4430\n",
              "21       [21, 22)    3505\n",
              "22       [22, 23)    1787\n",
              "23       [23, 24)     779"
            ]
          },
          "metadata": {
            "tags": []
          },
          "execution_count": 42
        }
      ]
    },
    {
      "metadata": {
        "id": "jtI5fHZNugSX",
        "colab_type": "code",
        "colab": {
          "base_uri": "https://localhost:8080/",
          "height": 364
        },
        "outputId": "762a4a14-007f-4313-a6c1-6ffdcdc8b1b0"
      },
      "cell_type": "code",
      "source": [
        "# TODO: Plot number of departures (Y axis) per hour-of-day (X axis)\n",
        "\n",
        "x_axis = dep_num_by_hour[\"DepTime_binned\"].cat.codes\n",
        "y_axis = dep_num_by_hour[\"counts\"]\n",
        "plt.plot(x_axis, y_axis)"
      ],
      "execution_count": 5,
      "outputs": [
        {
          "output_type": "execute_result",
          "data": {
            "text/plain": [
              "[<matplotlib.lines.Line2D at 0x7f5518e707f0>]"
            ]
          },
          "metadata": {
            "tags": []
          },
          "execution_count": 5
        },
        {
          "output_type": "display_data",
          "data": {
            "image/png": "[encoded data removed]",
            "text/plain": [
              "<matplotlib.figure.Figure at 0x7f5518f4de48>"
            ]
          },
          "metadata": {
            "tags": []
          }
        }
      ]
    },
    {
      "metadata": {
        "id": "RlowAJ7HodN8",
        "colab_type": "code",
        "colab": {
          "base_uri": "https://localhost:8080/",
          "height": 347
        },
        "outputId": "8d9807be-8b86-46bd-aede-09c97f790943"
      },
      "cell_type": "code",
      "source": [
        "# TODO: Plot the average number of delays per hour-of-day.\n",
        "\n",
        "# replace Y/N occurences with 1/0 accordingly\n",
        "data.dep_delayed_15min.replace(('Y', 'N'), (1, 0), inplace=True)\n",
        "avg_dep_num_by_hour = data.groupby([\"DepTime_binned\"]).mean().reset_index()\n",
        "x_axis = avg_dep_num_by_hour[\"DepTime_binned\"].cat.codes\n",
        "y_axis = avg_dep_num_by_hour[\"dep_delayed_15min\"]\n",
        "plt.plot(x_axis, y_axis)\n",
        "\n",
        "# remove this column - finished working with it\n",
        "data = data.drop(columns=['DepTime_binned'])"
      ],
      "execution_count": 6,
      "outputs": [
        {
          "output_type": "display_data",
          "data": {
            "image/png": "[encoded data removed]",
            "text/plain": [
              "<matplotlib.figure.Figure at 0x7f551c82d3c8>"
            ]
          },
          "metadata": {
            "tags": []
          }
        }
      ]
    },
    {
      "metadata": {
        "id": "y-JEg6gk0sKB",
        "colab_type": "code",
        "colab": {
          "base_uri": "https://localhost:8080/",
          "height": 34
        },
        "outputId": "c40ff77e-0a98-4c55-fd7b-a14e3a4ab5ee"
      },
      "cell_type": "code",
      "source": [
        "# TODO: Find the worse pair of origin and carrier \n",
        "\n",
        "# You may want to use 'idxmax' (like argmax, returning the row with max value of specific column)\n",
        "\n",
        "# pair with most mean distance\n",
        "data.groupby([\"Origin\", \"UniqueCarrier\"]).mean()[\"Distance\"].idxmax()\n"
      ],
      "execution_count": 7,
      "outputs": [
        {
          "output_type": "execute_result",
          "data": {
            "text/plain": [
              "('HNL', 'CO')"
            ]
          },
          "metadata": {
            "tags": []
          },
          "execution_count": 7
        }
      ]
    },
    {
      "metadata": {
        "id": "Jou6tsNs89z6",
        "colab_type": "text"
      },
      "cell_type": "markdown",
      "source": [
        "# Section 2: Supervised Learning\n",
        "Here, you are requested to use all features to predict the response parameter dep_delayed_15min"
      ]
    },
    {
      "metadata": {
        "id": "vDS7H_7i64VW",
        "colab_type": "code",
        "colab": {
          "base_uri": "https://localhost:8080/",
          "height": 233
        },
        "outputId": "ff4d1c10-3ee3-4f02-faf2-99db1e9a0d0d"
      },
      "cell_type": "code",
      "source": [
        "# TODO: encode all categorical features as one-hot representation\n",
        "\n",
        "# Month\tDayofMonth\tDayOfWeek\tDepTime\tUniqueCarrier\tOrigin\tDest\tDistance\tdep_delayed_15min\n",
        "months = pd.get_dummies(data['Month'], prefix='Month')\n",
        "days = pd.get_dummies(data['DayofMonth'], prefix='DayofMonth')\n",
        "week = pd.get_dummies(data['DayOfWeek'], prefix='DayOfWeek')\n",
        "carrier = pd.get_dummies(data['UniqueCarrier'], prefix='UniqueCarrier')\n",
        "origin = pd.get_dummies(data['Origin'], prefix='Origin')\n",
        "dest = pd.get_dummies(data['Dest'], prefix='Dest')\n",
        "X = pd.concat([data, months, days, week, carrier, origin, dest], axis=1)\n",
        "\n",
        "X = X.drop(columns=['Month', 'DayofMonth', 'DayOfWeek', 'UniqueCarrier', 'Origin', 'Dest'])\n",
        "X.head()"
      ],
      "execution_count": 34,
      "outputs": [
        {
          "output_type": "execute_result",
          "data": {
            "text/html": [
              "<div>\n",
              "<style scoped>\n",
              "    .dataframe tbody tr th:only-of-type {\n",
              "        vertical-align: middle;\n",
              "    }\n",
              "\n",
              "    .dataframe tbody tr th {\n",
              "        vertical-align: top;\n",
              "    }\n",
              "\n",
              "    .dataframe thead th {\n",
              "        text-align: right;\n",
              "    }\n",
              "</style>\n",
              "<table border=\"1\" class=\"dataframe\">\n",
              "  <thead>\n",
              "    <tr style=\"text-align: right;\">\n",
              "      <th></th>\n",
              "      <th>DepTime</th>\n",
              "      <th>Distance</th>\n",
              "      <th>dep_delayed_15min</th>\n",
              "      <th>Month_c-1</th>\n",
              "      <th>Month_c-10</th>\n",
              "      <th>Month_c-11</th>\n",
              "      <th>Month_c-12</th>\n",
              "      <th>Month_c-2</th>\n",
              "      <th>Month_c-3</th>\n",
              "      <th>Month_c-4</th>\n",
              "      <th>...</th>\n",
              "      <th>Dest_TYS</th>\n",
              "      <th>Dest_VCT</th>\n",
              "      <th>Dest_VIS</th>\n",
              "      <th>Dest_VLD</th>\n",
              "      <th>Dest_VPS</th>\n",
              "      <th>Dest_WRG</th>\n",
              "      <th>Dest_WYS</th>\n",
              "      <th>Dest_XNA</th>\n",
              "      <th>Dest_YAK</th>\n",
              "      <th>Dest_YUM</th>\n",
              "    </tr>\n",
              "  </thead>\n",
              "  <tbody>\n",
              "    <tr>\n",
              "      <th>0</th>\n",
              "      <td>1934</td>\n",
              "      <td>732</td>\n",
              "      <td>N</td>\n",
              "      <td>0</td>\n",
              "      <td>0</td>\n",
              "      <td>0</td>\n",
              "      <td>0</td>\n",
              "      <td>0</td>\n",
              "      <td>0</td>\n",
              "      <td>0</td>\n",
              "      <td>...</td>\n",
              "      <td>0</td>\n",
              "      <td>0</td>\n",
              "      <td>0</td>\n",
              "      <td>0</td>\n",
              "      <td>0</td>\n",
              "      <td>0</td>\n",
              "      <td>0</td>\n",
              "      <td>0</td>\n",
              "      <td>0</td>\n",
              "      <td>0</td>\n",
              "    </tr>\n",
              "    <tr>\n",
              "      <th>1</th>\n",
              "      <td>1548</td>\n",
              "      <td>834</td>\n",
              "      <td>N</td>\n",
              "      <td>0</td>\n",
              "      <td>0</td>\n",
              "      <td>0</td>\n",
              "      <td>0</td>\n",
              "      <td>0</td>\n",
              "      <td>0</td>\n",
              "      <td>1</td>\n",
              "      <td>...</td>\n",
              "      <td>0</td>\n",
              "      <td>0</td>\n",
              "      <td>0</td>\n",
              "      <td>0</td>\n",
              "      <td>0</td>\n",
              "      <td>0</td>\n",
              "      <td>0</td>\n",
              "      <td>0</td>\n",
              "      <td>0</td>\n",
              "      <td>0</td>\n",
              "    </tr>\n",
              "    <tr>\n",
              "      <th>2</th>\n",
              "      <td>1422</td>\n",
              "      <td>416</td>\n",
              "      <td>N</td>\n",
              "      <td>0</td>\n",
              "      <td>0</td>\n",
              "      <td>0</td>\n",
              "      <td>0</td>\n",
              "      <td>0</td>\n",
              "      <td>0</td>\n",
              "      <td>0</td>\n",
              "      <td>...</td>\n",
              "      <td>0</td>\n",
              "      <td>0</td>\n",
              "      <td>0</td>\n",
              "      <td>0</td>\n",
              "      <td>0</td>\n",
              "      <td>0</td>\n",
              "      <td>0</td>\n",
              "      <td>0</td>\n",
              "      <td>0</td>\n",
              "      <td>0</td>\n",
              "    </tr>\n",
              "    <tr>\n",
              "      <th>3</th>\n",
              "      <td>1015</td>\n",
              "      <td>872</td>\n",
              "      <td>N</td>\n",
              "      <td>0</td>\n",
              "      <td>0</td>\n",
              "      <td>1</td>\n",
              "      <td>0</td>\n",
              "      <td>0</td>\n",
              "      <td>0</td>\n",
              "      <td>0</td>\n",
              "      <td>...</td>\n",
              "      <td>0</td>\n",
              "      <td>0</td>\n",
              "      <td>0</td>\n",
              "      <td>0</td>\n",
              "      <td>0</td>\n",
              "      <td>0</td>\n",
              "      <td>0</td>\n",
              "      <td>0</td>\n",
              "      <td>0</td>\n",
              "      <td>0</td>\n",
              "    </tr>\n",
              "    <tr>\n",
              "      <th>4</th>\n",
              "      <td>1828</td>\n",
              "      <td>423</td>\n",
              "      <td>Y</td>\n",
              "      <td>0</td>\n",
              "      <td>1</td>\n",
              "      <td>0</td>\n",
              "      <td>0</td>\n",
              "      <td>0</td>\n",
              "      <td>0</td>\n",
              "      <td>0</td>\n",
              "      <td>...</td>\n",
              "      <td>0</td>\n",
              "      <td>0</td>\n",
              "      <td>0</td>\n",
              "      <td>0</td>\n",
              "      <td>0</td>\n",
              "      <td>0</td>\n",
              "      <td>0</td>\n",
              "      <td>0</td>\n",
              "      <td>0</td>\n",
              "      <td>0</td>\n",
              "    </tr>\n",
              "  </tbody>\n",
              "</table>\n",
              "<p>5 rows × 653 columns</p>\n",
              "</div>"
            ],
            "text/plain": [
              "   DepTime  Distance dep_delayed_15min  Month_c-1  Month_c-10  Month_c-11  \\\n",
              "0     1934       732                 N          0           0           0   \n",
              "1     1548       834                 N          0           0           0   \n",
              "2     1422       416                 N          0           0           0   \n",
              "3     1015       872                 N          0           0           1   \n",
              "4     1828       423                 Y          0           1           0   \n",
              "\n",
              "   Month_c-12  Month_c-2  Month_c-3  Month_c-4    ...     Dest_TYS  Dest_VCT  \\\n",
              "0           0          0          0          0    ...            0         0   \n",
              "1           0          0          0          1    ...            0         0   \n",
              "2           0          0          0          0    ...            0         0   \n",
              "3           0          0          0          0    ...            0         0   \n",
              "4           0          0          0          0    ...            0         0   \n",
              "\n",
              "   Dest_VIS  Dest_VLD  Dest_VPS  Dest_WRG  Dest_WYS  Dest_XNA  Dest_YAK  \\\n",
              "0         0         0         0         0         0         0         0   \n",
              "1         0         0         0         0         0         0         0   \n",
              "2         0         0         0         0         0         0         0   \n",
              "3         0         0         0         0         0         0         0   \n",
              "4         0         0         0         0         0         0         0   \n",
              "\n",
              "   Dest_YUM  \n",
              "0         0  \n",
              "1         0  \n",
              "2         0  \n",
              "3         0  \n",
              "4         0  \n",
              "\n",
              "[5 rows x 653 columns]"
            ]
          },
          "metadata": {
            "tags": []
          },
          "execution_count": 34
        }
      ]
    },
    {
      "metadata": {
        "id": "9FBdpRLSYGzW",
        "colab_type": "code",
        "colab": {}
      },
      "cell_type": "code",
      "source": [
        "# TODO: Split the data to train and test. Use test_size=0.3, and random_state=1 \n",
        "\n",
        "y = X['dep_delayed_15min']\n",
        "X = X.drop(columns=['dep_delayed_15min'])\n",
        "\n",
        "X_train, X_test, y_train, y_test = train_test_split(X, y, test_size=0.3, random_state=1)"
      ],
      "execution_count": 0,
      "outputs": []
    },
    {
      "metadata": {
        "id": "50iSOj45dWrI",
        "colab_type": "code",
        "colab": {
          "base_uri": "https://localhost:8080/",
          "height": 85
        },
        "outputId": "8eb5c064-c618-4442-c411-4749ad47c682"
      },
      "cell_type": "code",
      "source": [
        "# TODO: Fit a LogisticRegression classifier to the training set\n",
        "\n",
        "lr = LogisticRegression()\n",
        "lr.fit(X_train, y_train)"
      ],
      "execution_count": 36,
      "outputs": [
        {
          "output_type": "execute_result",
          "data": {
            "text/plain": [
              "LogisticRegression(C=1.0, class_weight=None, dual=False, fit_intercept=True,\n",
              "          intercept_scaling=1, max_iter=100, multi_class='ovr', n_jobs=1,\n",
              "          penalty='l2', random_state=None, solver='liblinear', tol=0.0001,\n",
              "          verbose=0, warm_start=False)"
            ]
          },
          "metadata": {
            "tags": []
          },
          "execution_count": 36
        }
      ]
    },
    {
      "metadata": {
        "id": "QuamnM9MdoDl",
        "colab_type": "code",
        "colab": {
          "base_uri": "https://localhost:8080/",
          "height": 51
        },
        "outputId": "f0644e92-8e27-4bfb-8d30-ba48478ad310"
      },
      "cell_type": "code",
      "source": [
        "# TODO: print confusion matrix over the testing set\n",
        "\n",
        "y_hat_test = lr.predict(X_test)\n",
        "confusion_matrix(y_test, y_hat_test)"
      ],
      "execution_count": 37,
      "outputs": [
        {
          "output_type": "execute_result",
          "data": {
            "text/plain": [
              "array([[24201,    64],\n",
              "       [ 5633,    94]])"
            ]
          },
          "metadata": {
            "tags": []
          },
          "execution_count": 37
        }
      ]
    },
    {
      "metadata": {
        "id": "fJlP7qADjYgd",
        "colab_type": "code",
        "colab": {
          "base_uri": "https://localhost:8080/",
          "height": 34
        },
        "outputId": "0ece073c-9362-41f4-e127-f198dd6cf8c1"
      },
      "cell_type": "code",
      "source": [
        "# TODO: Calculate Precision, Recall and F score\n",
        "\n",
        "from sklearn.metrics import precision_recall_fscore_support\n",
        "scores = precision_recall_fscore_support(y_test, y_hat_test, average='weighted')\n",
        "print('LogisticRegression: Precision: {} Recall: {} F score: {}'.format(*scores))"
      ],
      "execution_count": 38,
      "outputs": [
        {
          "output_type": "stream",
          "text": [
            "LogisticRegression: Precision: 0.7698950836054034 Recall: 0.810049346492398 F score: 0.7299506454452738\n"
          ],
          "name": "stdout"
        }
      ]
    },
    {
      "metadata": {
        "id": "Ob3liIQVkCk5",
        "colab_type": "code",
        "colab": {
          "base_uri": "https://localhost:8080/",
          "height": 68
        },
        "outputId": "fcdcc94b-081b-4f41-d845-76c537435f28"
      },
      "cell_type": "code",
      "source": [
        "# TODO: Similarly, print precision/recall for the following classifiers:\n",
        "\n",
        "from sklearn.naive_bayes import BernoulliNB\n",
        "from sklearn.neighbors import KNeighborsClassifier\n",
        "from sklearn.svm import LinearSVC\n",
        "\n",
        "def calculate_precision_recall_fscore(classifier):\n",
        "  clf = classifier()\n",
        "  clf.fit(X_train, y_train)\n",
        "  y_hat_test = clf.predict(X_test)\n",
        "  scores = precision_recall_fscore_support(y_test, y_hat_test, average='weighted')\n",
        "  print('{}: Precision: {} Recall: {} F score: {}'.format(classifier.__name__, *scores))\n",
        "\n",
        "calculate_precision_recall_fscore(BernoulliNB)\n",
        "calculate_precision_recall_fscore(KNeighborsClassifier)\n",
        "calculate_precision_recall_fscore(LinearSVC)"
      ],
      "execution_count": 39,
      "outputs": [
        {
          "output_type": "stream",
          "text": [
            "BernoulliNB: Precision: 0.7127643789939274 Recall: 0.8061483062149907 F score: 0.7262417889079731\n",
            "KNeighborsClassifier: Precision: 0.7451602794259695 Recall: 0.7920445452120566 F score: 0.7571742349099888\n",
            "LinearSVC: Precision: 0.7919740425421922 Recall: 0.48496265670845556 F score: 0.5235809238780511\n"
          ],
          "name": "stdout"
        }
      ]
    }
  ]
}