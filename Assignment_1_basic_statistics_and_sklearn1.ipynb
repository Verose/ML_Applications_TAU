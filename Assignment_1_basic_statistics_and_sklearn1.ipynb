{
  "nbformat": 4,
  "nbformat_minor": 0,
  "metadata": {
    "colab": {
      "name": "Assignment 1 - basic statistics and sklearn.ipynb",
      "version": "0.3.2",
      "provenance": [],
      "include_colab_link": true
    },
    "kernelspec": {
      "name": "python3",
      "display_name": "Python 3"
    }
  },
  "cells": [
    {
      "cell_type": "markdown",
      "metadata": {
        "id": "view-in-github",
        "colab_type": "text"
      },
      "source": [
        "<a href=\"https://colab.research.google.com/github/Verose/ML_Applications_TAU/blob/master/Assignment_1_basic_statistics_and_sklearn1.ipynb\" target=\"_parent\"><img src=\"https://colab.research.google.com/assets/colab-badge.svg\" alt=\"Open In Colab\"/></a>"
      ]
    },
    {
      "metadata": {
        "id": "stYit-uGbayX",
        "colab_type": "code",
        "colab": {}
      },
      "cell_type": "code",
      "source": [
        "import pandas as pd\n",
        "from google.colab import drive\n",
        "import matplotlib.pyplot as plt\n",
        "from sklearn.model_selection import train_test_split\n",
        "from sklearn.linear_model import LogisticRegression\n",
        "from sklearn.metrics import confusion_matrix"
      ],
      "execution_count": 0,
      "outputs": []
    },
    {
      "metadata": {
        "id": "AweBS3ty84vI",
        "colab_type": "text"
      },
      "cell_type": "markdown",
      "source": [
        "# Section 1: Data Science"
      ]
    },
    {
      "metadata": {
        "id": "jlzgpkMZbuzc",
        "colab_type": "code",
        "colab": {}
      },
      "cell_type": "code",
      "source": [
        "# TODO: Load the flights training data into 'data'\n",
        "\n",
        "#drive.mount('/content/drive')\n"
      ],
      "execution_count": 0,
      "outputs": []
    },
    {
      "metadata": {
        "id": "DXLfEg6TkgKS",
        "colab_type": "code",
        "colab": {}
      },
      "cell_type": "code",
      "source": [
        "# TODO: How many flights got delayed at Charlotte?\n",
        "\n",
        "# CLT_flights = data[data['Origin'] == \"CLT\"]\n",
        "\n",
        "#..."
      ],
      "execution_count": 0,
      "outputs": []
    },
    {
      "metadata": {
        "id": "nggBQbyYsaKH",
        "colab_type": "code",
        "colab": {}
      },
      "cell_type": "code",
      "source": [
        "# TODO: Show the number of departures per hour-of-day\n",
        "\n",
        "# You are adviced to use 'groupby'. More info can be found here:\n",
        "# https://pandas.pydata.org/pandas-docs/stable/generated/pandas.DataFrame.groupby.html\n"
      ],
      "execution_count": 0,
      "outputs": []
    },
    {
      "metadata": {
        "id": "jtI5fHZNugSX",
        "colab_type": "code",
        "colab": {}
      },
      "cell_type": "code",
      "source": [
        "# TODO: Plot number of departures (Y axis) per hour-of-day (X axis)\n"
      ],
      "execution_count": 0,
      "outputs": []
    },
    {
      "metadata": {
        "id": "RlowAJ7HodN8",
        "colab_type": "code",
        "colab": {}
      },
      "cell_type": "code",
      "source": [
        "# TODO: Plot the average number of delays per hour-of-day.\n"
      ],
      "execution_count": 0,
      "outputs": []
    },
    {
      "metadata": {
        "id": "y-JEg6gk0sKB",
        "colab_type": "code",
        "colab": {}
      },
      "cell_type": "code",
      "source": [
        "# TODO: Find the worse pair of origin and carrier \n",
        "\n",
        "# You may want to use 'idxmax' (like argmax, returning the row with max value of specific column)\n"
      ],
      "execution_count": 0,
      "outputs": []
    },
    {
      "metadata": {
        "id": "Jou6tsNs89z6",
        "colab_type": "text"
      },
      "cell_type": "markdown",
      "source": [
        "# Section 2: Supervised Learning\n",
        "Here, you are requested to use all features to predict the response parameter dep_delayed_15min"
      ]
    },
    {
      "metadata": {
        "id": "vDS7H_7i64VW",
        "colab_type": "code",
        "colab": {}
      },
      "cell_type": "code",
      "source": [
        "# TODO: encode all categorical features as one-hot representation\n",
        "\n",
        "# Month\tDayofMonth\tDayOfWeek\tDepTime\tUniqueCarrier\tOrigin\tDest\tDistance\tdep_delayed_15min\n"
      ],
      "execution_count": 0,
      "outputs": []
    },
    {
      "metadata": {
        "id": "9FBdpRLSYGzW",
        "colab_type": "code",
        "colab": {}
      },
      "cell_type": "code",
      "source": [
        "# TODO: Split the data to train and test. Use test_size=0.3, and random_state=1 \n",
        "\n"
      ],
      "execution_count": 0,
      "outputs": []
    },
    {
      "metadata": {
        "id": "50iSOj45dWrI",
        "colab_type": "code",
        "colab": {}
      },
      "cell_type": "code",
      "source": [
        "# TODO: Fit a LogisticRegression classifier to the training set\n"
      ],
      "execution_count": 0,
      "outputs": []
    },
    {
      "metadata": {
        "id": "QuamnM9MdoDl",
        "colab_type": "code",
        "colab": {}
      },
      "cell_type": "code",
      "source": [
        "# TODO: print confusion matrix over the testing set\n"
      ],
      "execution_count": 0,
      "outputs": []
    },
    {
      "metadata": {
        "id": "fJlP7qADjYgd",
        "colab_type": "code",
        "colab": {}
      },
      "cell_type": "code",
      "source": [
        "# TODO: Calculate Precision, Recall and F score"
      ],
      "execution_count": 0,
      "outputs": []
    },
    {
      "metadata": {
        "id": "Ob3liIQVkCk5",
        "colab_type": "code",
        "colab": {}
      },
      "cell_type": "code",
      "source": [
        "# TODO: Similarly, print precision/recall for the following classifiers:\n",
        "\n",
        "# sklearn.naive_bayes.BernoulliNB\n",
        "# sklearn.neighbors.KNeighborsClassifier\n",
        "# sklearn.svm.LinearSVC\n"
      ],
      "execution_count": 0,
      "outputs": []
    }
  ]
}