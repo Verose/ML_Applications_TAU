{
  "nbformat": 4,
  "nbformat_minor": 0,
  "metadata": {
    "colab": {
      "name": "Assignment 2 - decision tree",
      "version": "0.3.2",
      "provenance": [],
      "collapsed_sections": [],
      "include_colab_link": true
    },
    "kernelspec": {
      "name": "python3",
      "display_name": "Python 3"
    },
    "accelerator": "GPU"
  },
  "cells": [
    {
      "cell_type": "markdown",
      "metadata": {
        "id": "view-in-github",
        "colab_type": "text"
      },
      "source": [
        "<a href=\"https://colab.research.google.com/github/Verose/ML_Applications_TAU/blob/master/Assignment_2_decision_tree.ipynb\" target=\"_parent\"><img src=\"https://colab.research.google.com/assets/colab-badge.svg\" alt=\"Open In Colab\"/></a>"
      ]
    },
    {
      "metadata": {
        "id": "stYit-uGbayX",
        "colab_type": "code",
        "colab": {}
      },
      "cell_type": "code",
      "source": [
        "import pandas as pd\n",
        "import numpy as np\n",
        "from google.colab import drive\n",
        "import matplotlib.pyplot as plt\n",
        "from sklearn.model_selection import train_test_split\n",
        "from sklearn.tree import *\n",
        "from sklearn.metrics import confusion_matrix"
      ],
      "execution_count": 0,
      "outputs": []
    },
    {
      "metadata": {
        "id": "jnh3LsHi1WoQ",
        "colab_type": "text"
      },
      "cell_type": "markdown",
      "source": [
        "# Gender classification\n",
        "\n",
        "In this assignment you will build a gender classifier for Twitter users, using the following dataset:\n",
        "\n",
        "https://www.kaggle.com/crowdflower/twitter-user-gender-classification\n",
        "\n",
        "For more info about the dataset please refer to the Kaggle page. Each row represents a single user on Twitter.\n",
        "It contains the following fields:\n",
        "\n",
        "The dataset contains the following fields:\n",
        "\n",
        "**_unit_id**: a unique id for user\n",
        "\n",
        "**_golden**: whether the user was included in the gold standard for the model; TRUE or FALSE\n",
        "\n",
        "**_unit_state**: state of the observation; one of finalized (for contributor-judged) or golden (for gold standard observations)\n",
        "\n",
        "**_trusted_judgments**: number of trusted judgments (int); always 3 for non-golden, and what may be a unique id for gold standard observations\n",
        "\n",
        "**_last_judgment_at**: date and time of last contributor judgment; blank for gold standard observations\n",
        "\n",
        "**gender**: one of male, female, or brand (for non-human profiles)\n",
        "\n",
        "**gender:confidence**: a float representing confidence in the provided gender\n",
        "\n",
        "**profile_yn**: \"no\" here seems to mean that the profile was meant to be part of the dataset but was not available when \n",
        "contributors went to judge it\n",
        "\n",
        "**profile_yn:confidence**: confidence in the existence/non-existence of the profile\n",
        "\n",
        "**created**: date and time when the profile was created\n",
        "\n",
        "**description**: the user's profile description\n",
        "\n",
        "**fav_number**: number of tweets the user has favorited\n",
        "\n",
        "**gender_gold**: if the profile is golden, what is the gender?\n",
        "\n",
        "**link_color**: the link color on the profile, as a hex value\n",
        "\n",
        "**name**: the user's name\n",
        "\n",
        "**profile_yn_gold**: whether the profile y/n value is golden\n",
        "\n",
        "**profileimage**: a link to the profile image\n",
        "\n",
        "**retweet_count**: number of times the user has retweeted (or possibly, been retweeted)\n",
        "\n",
        "**sidebar_color**: color of the profile sidebar, as a hex value\n",
        "\n",
        "**text**: text of a random one of the user's tweets\n",
        "\n",
        "**tweet_coord**: if the user has location turned on, the coordinates as a string with the format \"[latitude, longitude]\"\n",
        "\n",
        "**tweet_count**: number of tweets that the user has posted\n",
        "\n",
        "**tweet_created**: when the random tweet (in the text column) was created\n",
        "\n",
        "**tweet_id**: the tweet id of the random tweet\n",
        "\n",
        "**tweet_location**: location of the tweet; seems to not be particularly normalized\n",
        "\n",
        "**user_timezone**: the timezone of the user\n",
        "\n",
        "\n",
        "So, the response variable is \"gender\". The features can be all the others.\n",
        "Please ignore the 50 \"golden\" entries. They were probably labeled as golden for a specific experiment that was done by the dataset creator.\n",
        "\n",
        "Please follow the insrtuctions, and fill in the missing part."
      ]
    },
    {
      "metadata": {
        "id": "AweBS3ty84vI",
        "colab_type": "text"
      },
      "cell_type": "markdown",
      "source": [
        "# Section 1: Data preparation"
      ]
    },
    {
      "metadata": {
        "id": "pIu7ONNf-csN",
        "colab_type": "text"
      },
      "cell_type": "markdown",
      "source": [
        "Here I connect my Kaggle account for downloading the dataset directly to my Colab machine. You can always do that like we did before. You can go to Kaggle manually, download the file, upload it into your drive, and mount your drive here."
      ]
    },
    {
      "metadata": {
        "id": "7TlAfC4ZjDXC",
        "colab_type": "code",
        "colab": {}
      },
      "cell_type": "code",
      "source": [
        "# Install Kaggle API and connect it to your account \n",
        "\n",
        "# 1. Go to https://www.kaggle.com/barkfir/account    (note, replace my handle with yours)\n",
        "# 2. Click on Create New API Token\n",
        "# 3. It will download a new json file to your machine, which contains your key. Copy your username and key to the relevant locations below.\n",
        "\n",
        "# !pip install -U -q kaggle\n",
        "# !mkdir -p ~/.kaggle\n",
        "# !echo '{\"username\":\"\",\"key\":\"\"}' > ~/.kaggle/kaggle.json\n",
        "# !chmod 600 ~/.kaggle/kaggle.json"
      ],
      "execution_count": 0,
      "outputs": []
    },
    {
      "metadata": {
        "id": "jlzgpkMZbuzc",
        "colab_type": "code",
        "colab": {}
      },
      "cell_type": "code",
      "source": [
        "# TODO: Download the dataset from https://www.kaggle.com/crowdflower/twitter-user-gender-classification\n",
        "# and put it in your drive\n",
        "\n",
        "# !kaggle datasets download -d crowdflower/twitter-user-gender-classification -p data\n",
        "# !unzip data/twitter-user-gender-classification.zip"
      ],
      "execution_count": 0,
      "outputs": []
    },
    {
      "metadata": {
        "id": "DXLfEg6TkgKS",
        "colab_type": "code",
        "outputId": "2b256837-9a98-4c91-f267-629743231a5f",
        "colab": {
          "base_uri": "https://localhost:8080/",
          "height": 34
        }
      },
      "cell_type": "code",
      "source": [
        "# TODO: Load gender-classifier-DFE-791531.csv into \"data\" variable\n",
        "\n",
        "from google.colab import drive\n",
        "\n",
        "drive.mount('/content/drive')\n",
        "\n",
        "data = pd.read_csv('/content/drive/My Drive/Colab Notebooks/ML course/data/gender-classifier-DFE-791531.csv', encoding=\"latin1\")"
      ],
      "execution_count": 0,
      "outputs": [
        {
          "output_type": "stream",
          "text": [
            "Drive already mounted at /content/drive; to attempt to forcibly remount, call drive.mount(\"/content/drive\", force_remount=True).\n"
          ],
          "name": "stdout"
        }
      ]
    },
    {
      "metadata": {
        "id": "WtvykzOEv0ir",
        "colab_type": "code",
        "outputId": "200a29f7-3e45-4d52-b253-f01ef8ed12f6",
        "colab": {
          "base_uri": "https://localhost:8080/",
          "height": 544
        }
      },
      "cell_type": "code",
      "source": [
        "data.info()"
      ],
      "execution_count": 0,
      "outputs": [
        {
          "output_type": "stream",
          "text": [
            "<class 'pandas.core.frame.DataFrame'>\n",
            "RangeIndex: 20050 entries, 0 to 20049\n",
            "Data columns (total 26 columns):\n",
            "_unit_id                 20050 non-null int64\n",
            "_golden                  20050 non-null bool\n",
            "_unit_state              20050 non-null object\n",
            "_trusted_judgments       20050 non-null int64\n",
            "_last_judgment_at        20000 non-null object\n",
            "gender                   19953 non-null object\n",
            "gender:confidence        20024 non-null float64\n",
            "profile_yn               20050 non-null object\n",
            "profile_yn:confidence    20050 non-null float64\n",
            "created                  20050 non-null object\n",
            "description              16306 non-null object\n",
            "fav_number               20050 non-null int64\n",
            "gender_gold              50 non-null object\n",
            "link_color               20050 non-null object\n",
            "name                     20050 non-null object\n",
            "profile_yn_gold          50 non-null object\n",
            "profileimage             20050 non-null object\n",
            "retweet_count            20050 non-null int64\n",
            "sidebar_color            20050 non-null object\n",
            "text                     20050 non-null object\n",
            "tweet_coord              159 non-null object\n",
            "tweet_count              20050 non-null int64\n",
            "tweet_created            20050 non-null object\n",
            "tweet_id                 20050 non-null float64\n",
            "tweet_location           12566 non-null object\n",
            "user_timezone            12252 non-null object\n",
            "dtypes: bool(1), float64(3), int64(5), object(17)\n",
            "memory usage: 3.8+ MB\n"
          ],
          "name": "stdout"
        }
      ]
    },
    {
      "metadata": {
        "id": "l5jQi5L-xOME",
        "colab_type": "code",
        "outputId": "9c51702e-c8ec-4102-82ed-5039c84ae877",
        "colab": {
          "base_uri": "https://localhost:8080/",
          "height": 527
        }
      },
      "cell_type": "code",
      "source": [
        "# TODO: Drop the golden entries\n",
        "data = data[data['_golden'] == False]\n",
        "data = data.drop('_golden', 1)\n",
        "data.info()"
      ],
      "execution_count": 0,
      "outputs": [
        {
          "output_type": "stream",
          "text": [
            "<class 'pandas.core.frame.DataFrame'>\n",
            "Int64Index: 20000 entries, 0 to 19999\n",
            "Data columns (total 25 columns):\n",
            "_unit_id                 20000 non-null int64\n",
            "_unit_state              20000 non-null object\n",
            "_trusted_judgments       20000 non-null int64\n",
            "_last_judgment_at        20000 non-null object\n",
            "gender                   19903 non-null object\n",
            "gender:confidence        19974 non-null float64\n",
            "profile_yn               20000 non-null object\n",
            "profile_yn:confidence    20000 non-null float64\n",
            "created                  20000 non-null object\n",
            "description              16262 non-null object\n",
            "fav_number               20000 non-null int64\n",
            "gender_gold              0 non-null object\n",
            "link_color               20000 non-null object\n",
            "name                     20000 non-null object\n",
            "profile_yn_gold          0 non-null object\n",
            "profileimage             20000 non-null object\n",
            "retweet_count            20000 non-null int64\n",
            "sidebar_color            20000 non-null object\n",
            "text                     20000 non-null object\n",
            "tweet_coord              159 non-null object\n",
            "tweet_count              20000 non-null int64\n",
            "tweet_created            20000 non-null object\n",
            "tweet_id                 20000 non-null float64\n",
            "tweet_location           12534 non-null object\n",
            "user_timezone            12226 non-null object\n",
            "dtypes: float64(3), int64(5), object(17)\n",
            "memory usage: 4.0+ MB\n"
          ],
          "name": "stdout"
        }
      ]
    },
    {
      "metadata": {
        "id": "127jW_EZ83GX",
        "colab_type": "code",
        "outputId": "0ccc0585-63e3-4b72-813e-8b3c858dcb32",
        "colab": {
          "base_uri": "https://localhost:8080/",
          "height": 34
        }
      },
      "cell_type": "code",
      "source": [
        "# TODO: How many female/male/brand/unknown exist in the data?\n",
        "\n",
        "data = data.dropna(subset=['gender'])  # drop rows with empty gender column\n",
        "males = (data.gender == 'male').sum()\n",
        "females = (data.gender == 'female').sum()\n",
        "brand = (data.gender == 'brand').sum()\n",
        "unknown = (data.gender == 'unknown').sum()\n",
        "print('There are {} females, {} males, {} brand and {} unknown'.format(females, males, brand, unknown))"
      ],
      "execution_count": 0,
      "outputs": [
        {
          "output_type": "stream",
          "text": [
            "There are 6685 females, 6173 males, 5928 brand and 1117 unknown\n"
          ],
          "name": "stdout"
        }
      ]
    },
    {
      "metadata": {
        "id": "nggBQbyYsaKH",
        "colab_type": "code",
        "colab": {}
      },
      "cell_type": "code",
      "source": [
        "# TODO: visualize link_color vs. gender\n",
        "# In order to do that, you are required to:\n",
        "\n",
        "# 1. convert link_color to RGB (array of 3 integers)\n",
        "# 2. run Kmeans (clustering algorithm) for K clusters (try K=10) to cluster the colors\n",
        "# 3. Visualize gender as stacked bar plot (see example in the assignment box)\n",
        "\n",
        "# To run Kmeans - use sklearn.cluster.KMeans\n",
        "# first, run:\n",
        "# \n",
        "# kmeans = KMeans(n_clusters=10, random_state=0).fit(X)   # X is the dataset containing all RGB color values\n",
        "# then, run:\n",
        "#\n",
        "# labels = kmeans.predict(X)\n",
        "# to get the label (cluster) of each row\n",
        "\n",
        "from sklearn.cluster import KMeans\n",
        "\n",
        "# remove invalid link colors entries\n",
        "data = data[data.link_color.str.len() == 6]\n",
        "\n",
        "def hex2rgb(color):\n",
        "  return (int(color[0:2], 16), int(color[2:4], 16), int(color[4:6], 16))\n",
        "def rgb2hex(rgb):\n",
        "  return '#%02x%02x%02x' % (int(rgb[0]), int(rgb[1]), int(rgb[2]))\n",
        "\n",
        "X = []\n",
        "y = []\n",
        "colors = []\n",
        "for color, gender in zip(data.link_color, data.gender):\n",
        "  X += [hex2rgb(color)]\n",
        "  y += [gender]\n",
        "  colors += [color]\n",
        "\n",
        "X = np.array(X)\n",
        "y = np.array(y)\n"
      ],
      "execution_count": 0,
      "outputs": []
    },
    {
      "metadata": {
        "id": "UNk0zAU2TF7K",
        "colab_type": "code",
        "outputId": "94640a26-2032-462d-f088-a5fa1151105d",
        "colab": {
          "base_uri": "https://localhost:8080/",
          "height": 408
        }
      },
      "cell_type": "code",
      "source": [
        "# visualize the data:\n",
        "from collections import Counter\n",
        "\n",
        "\n",
        "kmeans = KMeans(n_clusters=10, random_state=0).fit(X)\n",
        "y_predict = kmeans.predict(X)\n",
        "\n",
        "# color map from cluster id to original color      \n",
        "colors = []\n",
        "for center in kmeans.cluster_centers_:\n",
        "  rgb = int(center[0]), int(center[1]), int(center[2])\n",
        "  colors.append(rgb2hex(rgb))\n",
        "\n",
        "# visualize the data:\n",
        "def get(cluster):\n",
        "  temp = [gen for gen, clust in zip(y, y_predict) if clust == cluster]\n",
        "  temp = Counter(temp)\n",
        "  return (temp['brand'], temp['female'], temp['male'], temp['unknown'])\n",
        "\n",
        "\n",
        "params = get(0), get(1), get(2), get(3), get(4), get(5), get(6), get(7), get(7), get(9)\n",
        "\n",
        "# normalize the data to sum to 1\n",
        "params_normalize = []\n",
        "sum_i = []\n",
        "for i in range(4):  # calculate max of each color\n",
        "    sum_i += [sum([par[i] for par in params])]\n",
        "\n",
        "for param in params:  # normalize\n",
        "    params_normalize += [(param[0] / sum_i[0], param[1] / sum_i[1], param[2] / sum_i[2], param[3] / sum_i[3])]\n",
        "\n",
        "bar = {\n",
        "    colors[0]: params_normalize[0],\n",
        "    colors[1]: params_normalize[1],\n",
        "    colors[2]: params_normalize[2],\n",
        "    colors[3]: params_normalize[3],\n",
        "    colors[4]: params_normalize[4],\n",
        "    colors[5]: params_normalize[5],\n",
        "    colors[6]: params_normalize[6],\n",
        "    colors[7]: params_normalize[7],\n",
        "    colors[8]: params_normalize[8],\n",
        "    colors[9]: params_normalize[9],\n",
        "}\n",
        "\n",
        "ind = np.arange(4)\n",
        "width = 0.35\n",
        "\n",
        "plt.clf()\n",
        "index = pd.Index(('brand', 'female', 'male', 'unknown'), name='gender')\n",
        "bar = pd.DataFrame(bar, index=index)\n",
        "ax = bar.plot(kind='bar', stacked=True, color=colors)\n",
        "plt.show()\n"
      ],
      "execution_count": 0,
      "outputs": [
        {
          "output_type": "display_data",
          "data": {
            "text/plain": [
              "<matplotlib.figure.Figure at 0x7fdcc2626ac8>"
            ]
          },
          "metadata": {
            "tags": []
          }
        },
        {
          "output_type": "display_data",
          "data": {
            "image/png": "[encoded data removed]",
            "text/plain": [
              "<matplotlib.figure.Figure at 0x7fdcc2614160>"
            ]
          },
          "metadata": {
            "tags": []
          }
        }
      ]
    },
    {
      "metadata": {
        "id": "ZCwGeat0-1ms",
        "colab_type": "code",
        "colab": {}
      },
      "cell_type": "code",
      "source": [
        "# TODO: Divide the data to train and test, with test_size=0.2, random_state=0\n",
        "\n",
        "# preprocess the data\n",
        "data = data.drop(columns=['_unit_id', 'tweet_id', '_trusted_judgments', 'profile_yn:confidence', 'tweet_count',\n",
        "                          'tweet_coord', 'gender:confidence'])\n",
        "data = data[data[\"gender\"] != \"unknown\"]\n",
        "data = data[data.link_color.str.len() == 6]\n",
        "data = data[data.sidebar_color.str.len() == 6]\n",
        "y = data['gender']\n",
        "X = data.drop('gender', 1)\n",
        "\n",
        "X_train, X_test, y_train, y_test = train_test_split(X, y, test_size=0.2, random_state=0)\n"
      ],
      "execution_count": 0,
      "outputs": []
    },
    {
      "metadata": {
        "id": "ELItKSGlJ7YC",
        "colab_type": "code",
        "colab": {}
      },
      "cell_type": "code",
      "source": [
        "def print_scores(y_true, y_hat, stage=\"\", mode=\"\"):\n",
        "  scores = precision_recall_fscore_support(y_true, y_hat, average='micro')\n",
        "  print('DecisionTreeClassifier: {}: {}:\\nPrecision: {} Recall: {} F score: {}'.format(stage, mode, *scores))\n",
        "  \n",
        "def add_feature_to_df(orig_df, column, v, fit=False):\n",
        "  if fit:\n",
        "    X_td = v.fit_transform(column)\n",
        "  else:\n",
        "    X_td = v.transform(column)\n",
        "\n",
        "  df_ret = pd.DataFrame(X_td.toarray(), columns=v.get_feature_names())\n",
        "  df_ret = df_ret.add_prefix('tf_idf-')\n",
        "  df_ret = orig_df.reset_index(drop=True).join(df_ret.reset_index(drop=True), rsuffix='_r')\n",
        "  return df_ret"
      ],
      "execution_count": 0,
      "outputs": []
    },
    {
      "metadata": {
        "id": "Jou6tsNs89z6",
        "colab_type": "text"
      },
      "cell_type": "markdown",
      "source": [
        "# Section 2: Decision Tree\n",
        "\n",
        "Use DecisionTreeClassifier to classify the data, using different feature sets."
      ]
    },
    {
      "metadata": {
        "id": "vDS7H_7i64VW",
        "colab_type": "code",
        "outputId": "b8613fa8-2c0c-402e-f2ba-e74a16c0e86d",
        "colab": {
          "base_uri": "https://localhost:8080/",
          "height": 85
        }
      },
      "cell_type": "code",
      "source": [
        "# TODO: Use only numeric fields to classify the data for gender. \n",
        "# Report on micro-average of precision/recall/F Score.\n",
        "\n",
        "from sklearn.metrics import precision_recall_fscore_support\n",
        "\n",
        "X_train_numeric = X_train._get_numeric_data()\n",
        "X_test_numeric = X_test._get_numeric_data()\n",
        "\n",
        "model = DecisionTreeClassifier(max_depth=5)\n",
        "model.fit(X_train_numeric, y_train)\n",
        "y_hat_train = model.predict(X_train_numeric)\n",
        "y_hat_test = model.predict(X_test_numeric)\n",
        "print_scores(y_train, y_hat_train, \"numeric\", \"train\")\n",
        "print_scores(y_test, y_hat_test, \"numeric\", \"test\")"
      ],
      "execution_count": 0,
      "outputs": [
        {
          "output_type": "stream",
          "text": [
            "DecisionTreeClassifier: numeric: train:\n",
            "Precision: 0.5250540735400144 Recall: 0.5250540735400144 F score: 0.5250540735400144\n",
            "DecisionTreeClassifier: numeric: test:\n",
            "Precision: 0.5165825522710887 Recall: 0.5165825522710887 F score: 0.5165825522710887\n"
          ],
          "name": "stdout"
        }
      ]
    },
    {
      "metadata": {
        "id": "9FBdpRLSYGzW",
        "colab_type": "code",
        "outputId": "2a853323-4f52-4955-a87e-6ddbccf16063",
        "colab": {
          "base_uri": "https://localhost:8080/",
          "height": 85
        }
      },
      "cell_type": "code",
      "source": [
        "# TODO: Add the description attribute as a feature and classify the data for gender. \n",
        "# Make sure to transform the texts into numerical features using TF-IDF.\n",
        "# Report on micro-average of precision/recall/F Score.\n",
        "\n",
        "from sklearn.feature_extraction.text import TfidfVectorizer\n",
        "\n",
        "v = TfidfVectorizer(analyzer=\"word\", lowercase=True)\n",
        "X_train_desc = add_feature_to_df(X_train_numeric, X_train['description'].fillna(''), v, True)\n",
        "X_test_desc = add_feature_to_df(X_test_numeric, X_test['description'].fillna(''), v)\n",
        "\n",
        "model.fit(X_train_desc, y_train)\n",
        "y_hat_train = model.predict(X_train_desc)\n",
        "y_hat_test = model.predict(X_test_desc)\n",
        "print_scores(y_train, y_hat_train, \"description\", \"train\")\n",
        "print_scores(y_test, y_hat_test, \"description\", \"test\")\n"
      ],
      "execution_count": 0,
      "outputs": [
        {
          "output_type": "stream",
          "text": [
            "DecisionTreeClassifier: description: train:\n",
            "Precision: 0.5453316510454218 Recall: 0.5453316510454218 F score: 0.5453316510454218\n",
            "DecisionTreeClassifier: description: test:\n",
            "Precision: 0.5367700072098054 Recall: 0.5367700072098054 F score: 0.5367700072098054\n"
          ],
          "name": "stdout"
        }
      ]
    },
    {
      "metadata": {
        "id": "50iSOj45dWrI",
        "colab_type": "code",
        "outputId": "7fd05472-7874-42e5-c9e8-8f91b57ae792",
        "colab": {
          "base_uri": "https://localhost:8080/",
          "height": 85
        }
      },
      "cell_type": "code",
      "source": [
        "# TODO: Add the tweet attribute as a feature and classify the data for gender. \n",
        "# Make sure to transform the texts into numerical features using TF-IDF.\n",
        "# Report on micro-average of precision/recall/F Score.\n",
        "\n",
        "v = TfidfVectorizer(analyzer=\"word\", min_df=10, lowercase=True, stop_words=\"english\", ngram_range=(1, 5))\n",
        "X_train_tweet = add_feature_to_df(X_train_desc, X_train['text'], v, True)\n",
        "X_test_tweet = add_feature_to_df(X_test_desc, X_test['text'], v)\n",
        "\n",
        "model.fit(X_train_tweet, y_train)\n",
        "y_hat_train = model.predict(X_train_tweet)\n",
        "y_hat_test = model.predict(X_test_tweet)\n",
        "print_scores(y_train, y_hat_train, \"tweet\", \"train\")\n",
        "print_scores(y_test, y_hat_test, \"tweet\", \"test\")\n"
      ],
      "execution_count": 0,
      "outputs": [
        {
          "output_type": "stream",
          "text": [
            "DecisionTreeClassifier: tweet: train:\n",
            "Precision: 0.5500180245133381 Recall: 0.5500180245133381 F score: 0.5500180245133381\n",
            "DecisionTreeClassifier: tweet: test:\n",
            "Precision: 0.553352559480894 Recall: 0.553352559480894 F score: 0.553352559480894\n"
          ],
          "name": "stdout"
        }
      ]
    },
    {
      "metadata": {
        "id": "QuamnM9MdoDl",
        "colab_type": "code",
        "outputId": "9d9c1e1f-e0bb-47ac-c714-87266f178619",
        "colab": {
          "base_uri": "https://localhost:8080/",
          "height": 85
        }
      },
      "cell_type": "code",
      "source": [
        "# TODO: try any feature combination, any pre processing, but use only DecisionTreeClassifier.\n",
        "# Try to get to the best micro-average of F Score. \n",
        "# The students with the best score will be invited to present it in class.\n",
        "\n",
        "v = TfidfVectorizer(analyzer=\"char\", lowercase=True)\n",
        "X_train_freestyle = add_feature_to_df(X_train_tweet, X_train['link_color'], v, True)\n",
        "X_test_freestyle = add_feature_to_df(X_test_tweet, X_test['link_color'], v)\n",
        "\n",
        "model = DecisionTreeClassifier(max_depth=13, max_leaf_nodes=128)\n",
        "\n",
        "model.fit(X_train_freestyle, y_train)\n",
        "\n",
        "y_hat_train = model.predict(X_train_freestyle)\n",
        "y_hat_test = model.predict(X_test_freestyle)\n",
        "print_scores(y_train, y_hat_train, \"freestyle\", \"train\")\n",
        "print_scores(y_test, y_hat_test, \"freestyle\", \"test\")\n",
        "\n",
        " "
      ],
      "execution_count": 0,
      "outputs": [
        {
          "output_type": "stream",
          "text": [
            "DecisionTreeClassifier: freestyle: train:\n",
            "Precision: 0.6258111031002163 Recall: 0.6258111031002163 F score: 0.6258111031002163\n",
            "DecisionTreeClassifier: freestyle: test:\n",
            "Precision: 0.587238644556597 Recall: 0.587238644556597 F score: 0.587238644556597\n"
          ],
          "name": "stdout"
        }
      ]
    }
  ]
}